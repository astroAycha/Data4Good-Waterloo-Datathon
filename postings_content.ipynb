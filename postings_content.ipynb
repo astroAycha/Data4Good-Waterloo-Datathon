{
  "nbformat": 4,
  "nbformat_minor": 0,
  "metadata": {
    "colab": {
      "provenance": []
    },
    "kernelspec": {
      "name": "python3",
      "display_name": "Python 3"
    },
    "language_info": {
      "name": "python"
    }
  },
  "cells": [
    {
      "cell_type": "code",
      "execution_count": null,
      "metadata": {
        "id": "3uoVQOzFas8t"
      },
      "outputs": [],
      "source": [
        "!pip install keybert\n",
        "!pip install -U sentence-transformers"
      ]
    },
    {
      "cell_type": "code",
      "source": [
        "!ls"
      ],
      "metadata": {
        "id": "gGSgkV_Gbdya"
      },
      "execution_count": null,
      "outputs": []
    },
    {
      "cell_type": "code",
      "source": [
        "import pandas as pd\n",
        "import matplotlib.pylab as plt\n",
        "import seaborn as sns\n",
        "from keybert import KeyBERT\n",
        "from sentence_transformers import SentenceTransformer\n",
        "from sklearn.metrics.pairwise import cosine_similarity\n",
        "from nltk.util import ngrams\n",
        "from typing import List\n",
        "from collections import Counter"
      ],
      "metadata": {
        "id": "KFJ3cC0Xa3EM"
      },
      "execution_count": null,
      "outputs": []
    },
    {
      "cell_type": "code",
      "source": [
        "sns.set_style(\"whitegrid\")\n",
        "sns.set_context(\"talk\")"
      ],
      "metadata": {
        "id": "PYcZPI8sQFVe"
      },
      "execution_count": null,
      "outputs": []
    },
    {
      "cell_type": "code",
      "source": [
        "data_dict = pd.read_excel('Data_Dictionary.xlsx')"
      ],
      "metadata": {
        "id": "NEukqUwGbV3P"
      },
      "execution_count": null,
      "outputs": []
    },
    {
      "cell_type": "code",
      "source": [
        "# data_dict"
      ],
      "metadata": {
        "id": "9zkOfuJVc81O"
      },
      "execution_count": null,
      "outputs": []
    },
    {
      "cell_type": "code",
      "source": [
        "pre_covid = pd.read_excel('VW_2019.xlsx')"
      ],
      "metadata": {
        "id": "_tgDYThVetJZ"
      },
      "execution_count": null,
      "outputs": []
    },
    {
      "cell_type": "code",
      "source": [
        "pos_covid = pd.read_excel('VW_2022.xlsx')"
      ],
      "metadata": {
        "id": "cfhZd94qe1kO"
      },
      "execution_count": null,
      "outputs": []
    },
    {
      "cell_type": "code",
      "source": [
        "pre_covid['Year'] = [2019 for x in range(len(pre_covid))]\n",
        "pos_covid['Year'] = [2022 for x in range(len(pos_covid))]"
      ],
      "metadata": {
        "id": "SxFepWpJkTiW"
      },
      "execution_count": 55,
      "outputs": []
    },
    {
      "cell_type": "code",
      "source": [
        "data_df = pd.concat([pre_covid, pos_covid], ignore_index=True).reset_index()"
      ],
      "metadata": {
        "id": "D-Gf6pIDkZ_7"
      },
      "execution_count": null,
      "outputs": []
    },
    {
      "cell_type": "code",
      "source": [
        "fig = plt.figure(figsize=(9,13))\n",
        "sns.countplot(data=data_df,\n",
        "              y='OrgName',\n",
        "              hue='Year',\n",
        "              orient='h',\n",
        "              order=data_df['OrgName'].value_counts().index[:25],\n",
        "              palette='hls',\n",
        "              lw=2,\n",
        "              edgecolor='0.4',\n",
        "             )\n",
        "plt.xlim(0,26)\n",
        "plt.title(\"Number of Volunteer Postings in 2019 and 2022\")\n",
        "plt.xlabel(\"Number of Postings\")\n",
        "plt.ylabel('Organization Name')\n",
        "sns.despine(offset=15, trim=True)\n",
        "plt.legend(loc=5)\n",
        "# plt.xticks(rotation = 90);"
      ],
      "metadata": {
        "id": "XepmVAlxRY21"
      },
      "execution_count": null,
      "outputs": []
    },
    {
      "cell_type": "code",
      "source": [
        "fig = plt.figure(figsize=(9,13))\n",
        "sns.countplot(data=data_df,\n",
        "              y='OrgName',\n",
        "              hue='Year',\n",
        "              orient='h',\n",
        "              order=data_df['OrgName'].value_counts().index[25:50],\n",
        "              palette='hls',\n",
        "              lw=2,\n",
        "              edgecolor='0.4',\n",
        "             )\n",
        "# plt.ylim(0,26)\n",
        "plt.xlim(0,26)\n",
        "plt.title(\"Number of Volunteer Postings in 2019 and 2022\")\n",
        "plt.xlabel(\"Number of Postings\")\n",
        "plt.ylabel('Organization Name')\n",
        "sns.despine(offset=5, trim=True)\n",
        "plt.legend(loc=5)\n",
        "# plt.xticks(rotation = 90);"
      ],
      "metadata": {
        "id": "KeZxNVwLR16s"
      },
      "execution_count": null,
      "outputs": []
    },
    {
      "cell_type": "code",
      "source": [
        "fig = plt.figure(figsize=(9,13))\n",
        "sns.countplot(data=data_df,\n",
        "              y='OrgName',\n",
        "              hue='Year',\n",
        "              orient='h',\n",
        "              order=data_df['OrgName'].value_counts().index[50:75],\n",
        "              palette='hls',\n",
        "              lw=2,\n",
        "              edgecolor='0.4',\n",
        "             )\n",
        "plt.xlim(0,26)\n",
        "plt.title(\"Number of Volunteer Postings in 2019 and 2022\")\n",
        "plt.xlabel(\"Number of Postings\")\n",
        "plt.ylabel('Organization Name')\n",
        "sns.despine(offset=5, trim=True)\n",
        "plt.legend(loc=5)\n",
        "# plt.xticks(rotation = 90);"
      ],
      "metadata": {
        "id": "UzkE5I9FS3Rl"
      },
      "execution_count": null,
      "outputs": []
    },
    {
      "cell_type": "code",
      "source": [
        "fig = plt.figure(figsize=(9,13))\n",
        "sns.countplot(data=data_df,\n",
        "              y='OrgName',\n",
        "              hue='Year',\n",
        "              orient='h',\n",
        "              order=data_df['OrgName'].value_counts().index[75:100],\n",
        "              palette='hls',\n",
        "              lw=2,\n",
        "              edgecolor='0.4',\n",
        "             )\n",
        "plt.xlim(0,26)\n",
        "plt.title(\"Number of Volunteer Postings in 2019 and 2022\")\n",
        "plt.xlabel(\"Number of Postings\")\n",
        "plt.ylabel('Organization Name')\n",
        "sns.despine(offset=5, trim=True)\n",
        "plt.legend(loc=5)\n",
        "# plt.xticks(rotation = 90);"
      ],
      "metadata": {
        "id": "_Mvk9yjNcjCH"
      },
      "execution_count": null,
      "outputs": []
    },
    {
      "cell_type": "code",
      "source": [
        "def create_embed(docs: List[str]) -> List[List]:\n",
        "\n",
        "  \"\"\"\n",
        "  create embeddings for a list of keyphrases\n",
        "  \"\"\"\n",
        "\n",
        "  model  = SentenceTransformer(\"bert-base-uncased\")\n",
        "  embeddings =  model.encode(docs)\n",
        "\n",
        "  return embeddings\n"
      ],
      "metadata": {
        "id": "LOLR1S4jSddL"
      },
      "execution_count": 78,
      "outputs": []
    },
    {
      "cell_type": "code",
      "source": [
        "def extract_keyphrases(docs) -> List[List]:\n",
        "\n",
        "  \"\"\"\n",
        "  \"\"\"\n",
        "\n",
        "  kw_model = KeyBERT()\n",
        "\n",
        "  kw_ = [kw_model.extract_keywords(d,\n",
        "                                keyphrase_ngram_range=(1, 2),\n",
        "#                                stop_words='None'\n",
        "                               ) for d in docs]\n",
        "\n",
        "  kw = []\n",
        "  for doc_kw in kw_:\n",
        "      kw.append([w[0] for w in doc_kw])\n",
        "\n",
        "  return kw"
      ],
      "metadata": {
        "id": "mTMsxoH_TBRE"
      },
      "execution_count": 79,
      "outputs": []
    },
    {
      "cell_type": "code",
      "source": [
        "def find_theme(documents: List[str], theme: List[str]) -> list[List]:\n",
        "\n",
        "  \"\"\"\n",
        "  function to take in a list of documents,\n",
        "  extract keywords (phrases)\n",
        "  and calculate their similarity to a given theme\n",
        "\n",
        "  INPUT:\n",
        "  documents: list of text\n",
        "  theme: list of text\n",
        "\n",
        "  OUTPUT:\n",
        "  List of lists\n",
        "  \"\"\"\n",
        "\n",
        "  doc_kw = extract_keyphrases(documents)\n",
        "  kw_embed = create_embed(doc_kw)\n",
        "\n",
        "  theme_embed = create_embed(theme)\n",
        "\n",
        "  sim = cosine_similarity(kw_embed, theme_embed)\n",
        "\n",
        "  kw_comb = [w for kw_ in doc_kw for w in kw_]\n",
        "\n",
        "  kw_count = Counter(kw_comb).most_common()\n",
        "\n",
        "  return sim, kw_comb, kw_count"
      ],
      "metadata": {
        "id": "okGUPTVCMG0f"
      },
      "execution_count": 80,
      "outputs": []
    },
    {
      "cell_type": "code",
      "source": [
        "# org_name = 'Canadian Cancer Society'\n",
        "# org_name = 'Kitchener Public Library'\n",
        "org_name = 'House of Friendship'\n",
        "\n",
        "year = 2019"
      ],
      "metadata": {
        "id": "FkAvG-YZdeux"
      },
      "execution_count": 95,
      "outputs": []
    },
    {
      "cell_type": "code",
      "source": [
        "data_slice = data_df['Position_Description'][(data_df['OrgName'] == org_name) & (data_df['Year'] == year)]\n",
        "print(data_slice.shape)"
      ],
      "metadata": {
        "id": "eTZER-TLeiOV"
      },
      "execution_count": null,
      "outputs": []
    },
    {
      "cell_type": "code",
      "source": [
        "docs = data_df['Position_Description'][(data_df['OrgName'] == org_name) & (data_df['Year'] == year)]"
      ],
      "metadata": {
        "id": "HaWeoWDpsW_L"
      },
      "execution_count": 97,
      "outputs": []
    },
    {
      "cell_type": "code",
      "source": [
        "community_theme = ['community', 'community care', 'community engagement', 'community mobilization']"
      ],
      "metadata": {
        "id": "rqDjsqrgsjtp"
      },
      "execution_count": 98,
      "outputs": []
    },
    {
      "cell_type": "code",
      "source": [
        "s22, kw, kw_count = find_theme(docs, community_theme)"
      ],
      "metadata": {
        "id": "_tMMSg96rhqs"
      },
      "execution_count": null,
      "outputs": []
    },
    {
      "cell_type": "code",
      "source": [
        "kw_count"
      ],
      "metadata": {
        "id": "AqN8ZHU1WOby"
      },
      "execution_count": null,
      "outputs": []
    },
    {
      "cell_type": "code",
      "source": [
        "fig = plt.figure(figsize=(11,8))\n",
        "sns.heatmap(s22,\n",
        "            cmap='Blues',\n",
        "            linewidths= 2,\n",
        "            annot=True)"
      ],
      "metadata": {
        "id": "ppN8c-DkvDF4"
      },
      "execution_count": null,
      "outputs": []
    },
    {
      "cell_type": "code",
      "source": [
        "docs.iloc[0]"
      ],
      "metadata": {
        "id": "COC8qVNfvoVm"
      },
      "execution_count": null,
      "outputs": []
    },
    {
      "cell_type": "code",
      "source": [
        "docs.iloc[3]"
      ],
      "metadata": {
        "id": "oX5yza9jciF7"
      },
      "execution_count": null,
      "outputs": []
    },
    {
      "cell_type": "code",
      "source": [],
      "metadata": {
        "id": "CB-t2buLcsao"
      },
      "execution_count": null,
      "outputs": []
    }
  ]
}